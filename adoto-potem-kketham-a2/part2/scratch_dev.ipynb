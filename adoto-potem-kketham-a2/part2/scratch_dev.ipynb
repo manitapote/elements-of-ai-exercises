{
 "cells": [
  {
   "cell_type": "code",
   "execution_count": 6,
   "id": "continent-chance",
   "metadata": {},
   "outputs": [
    {
     "name": "stdout",
     "output_type": "stream",
     "text": [
      "Starting dice:  [2, 1, 5, 6, 1]\n",
      "Index of dice needed to be rerolled:  [1, 3]\n",
      "The probability of getting the numbers we need:  0.05555555555555555\n",
      "Expected value:  2.2222222222222223\n"
     ]
    }
   ],
   "source": [
    "# find how many dice we need to reroll for company category\n",
    "d = Dice()\n",
    "dice = d.roll()\n",
    "print('Starting dice: ', dice)\n",
    "\n",
    "l1 = [i for i,d in enumerate(dice) if d in dice[i+1:] or d not in [1,2,3,4,5]]\n",
    "l2 = [i for i,d in enumerate(dice) if d in dice[i+1:] or d not in [2,3,4,5,6]]\n",
    "\n",
    "if len(l1) < len(l2):\n",
    "    index = l1\n",
    "    pr = math.factorial(len(index)) / 6**len(index)\n",
    "    \n",
    "elif len(l1) > len(l2):\n",
    "    index = l2\n",
    "    pr = math.factorial(len(index)) / 6**len(index)\n",
    "\n",
    "else:\n",
    "    index = random.choice([l1, l2])\n",
    "    pr = math.factorial(len(index)) / 6**len(index)\n",
    "    \n",
    "print('Index of dice needed to be rerolled: ', index)\n",
    "print('The probability of getting the numbers we need: ', pr)\n",
    "print('Expected value: ', pr * 40)"
   ]
  },
  {
   "cell_type": "code",
   "execution_count": 8,
   "id": "marked-premiere",
   "metadata": {},
   "outputs": [
    {
     "name": "stdout",
     "output_type": "stream",
     "text": [
      "Starting dice:  [1, 3, 5, 5, 2]\n",
      "Set of dice:  {1, 2, 3, 5}\n",
      "{4}\n"
     ]
    }
   ],
   "source": [
    "# find how many dice we need to reroll for prattle category\n",
    "\n",
    "d = Dice()\n",
    "dice = d.roll()\n",
    "print('Starting dice: ', dice)\n",
    "print(\"Set of dice: \", set(dice))\n",
    "\n",
    "sets = [set([1,2,3,4]) - set(dice), set([2,3,4,5]) - set(dice), set([3,4,5,6]) - set(dice)]\n",
    "lengths = np.array([len(set([1,2,3,4]) - set(dice)), len(set([2,3,4,5]) - set(dice)), len(set([3,4,5,6]) - set(dice))])\n",
    "\n",
    "print(sets[np.argmin(lengths)])"
   ]
  },
  {
   "cell_type": "code",
   "execution_count": 5,
   "id": "streaming-shakespeare",
   "metadata": {},
   "outputs": [],
   "source": [
    "import math\n",
    "import numpy as np"
   ]
  },
  {
   "cell_type": "code",
   "execution_count": 107,
   "id": "naval-madagascar",
   "metadata": {},
   "outputs": [],
   "source": [
    "def max_score(dice, scorecard):\n",
    "    counts = [dice.count(i) for i in range(1,7)]\n",
    "    max_score = ['category', 0]\n",
    "    \n",
    "    for category in s.Categories:\n",
    "        if category in s.scorecard:\n",
    "            break\n",
    "        if category in Scorecard.Numbers:\n",
    "            score = counts[Scorecard.Numbers[category]-1] * Scorecard.Numbers[category]\n",
    "        elif category == \"company\":\n",
    "            score = 40 if sorted(dice) == [1,2,3,4,5] or sorted(dice) == [2,3,4,5,6] else 0\n",
    "        elif category == \"prattle\":\n",
    "            score = 30 if (len(set([1,2,3,4]) - set(dice)) == 0 or len(set([2,3,4,5]) - set(dice)) == 0 or len(set([3,4,5,6]) - set(dice)) == 0) else 0\n",
    "        elif category == \"squadron\":\n",
    "            score = 25 if (2 in counts) and (3 in counts) else 0\n",
    "        elif category == \"triplex\":\n",
    "            score = sum(dice) if max(counts) >= 3 else 0\n",
    "        elif category == \"quadrupla\":\n",
    "            score = sum(dice) if max(counts) >= 4 else 0\n",
    "        elif category == \"quintuplicatam\":\n",
    "            score = 50 if max(counts) == 5 else 0\n",
    "        elif category == \"pandemonium\":\n",
    "            score = sum(dice)\n",
    "        else:\n",
    "            print(\"Error: unknown category\")\n",
    "        \n",
    "        if score > max_score[1]:\n",
    "            max_score = [category, score]\n",
    "\n",
    "    return max_score"
   ]
  },
  {
   "cell_type": "code",
   "execution_count": 171,
   "id": "dental-relations",
   "metadata": {},
   "outputs": [],
   "source": [
    "def exp_value_reroll(dice, strategy, scorecard):\n",
    "    total_outcomes = 0\n",
    "    score = 0\n",
    "    for outcome_a in ([dice[0],] if strategy[0] == False else range(1,7)):\n",
    "        for outcome_b in ([dice[1],] if strategy[1] == False else range(1,7)):\n",
    "            for outcome_c in ([dice[2],] if strategy[2] == False else range(1,7)):\n",
    "                for outcome_d in ([dice[3],] if strategy[3] == False else range(1,7)):\n",
    "                    for outcome_e in ([dice[4],] if strategy[4] == False else range(1,7)):\n",
    "                        total_outcomes +=1\n",
    "                        new_dice = [outcome_a, outcome_b, outcome_c, outcome_d, outcome_e]\n",
    "                        score += max_score(new_dice, scorecard)[1]\n",
    "            \n",
    "    return score * (1/total_outcomes)\n",
    "                        #if best_score[1] * (1/total_outcomes) > best_exp_score[1]:\n",
    "                         #   best_exp_score = [best_score[0], best_score[1] * (1/total_outcomes)]"
   ]
  },
  {
   "cell_type": "code",
   "execution_count": 184,
   "id": "dutch-chapel",
   "metadata": {},
   "outputs": [],
   "source": [
    "def find_best_strategy(dice, scorecard):\n",
    "    best_score = 0 \n",
    "    best_strategy = []\n",
    "    for reroll_a in (True, False):\n",
    "        for reroll_b in (True, False):\n",
    "            for reroll_c in (True, False):\n",
    "                for reroll_d in (True, False):\n",
    "                    for reroll_e in (True, False):\n",
    "                        strategy = [reroll_a, reroll_b, reroll_c, reroll_d, reroll_e]\n",
    "                        score = exp_value_reroll(dice, strategy, scorecard)\n",
    "                        if score > best_score:\n",
    "                            best_score = score\n",
    "                            best_strategy = strategy\n",
    "    return [i for i, x in enumerate(best_strategy) if x == True]"
   ]
  },
  {
   "cell_type": "code",
   "execution_count": 297,
   "id": "promising-mailing",
   "metadata": {},
   "outputs": [
    {
     "name": "stdout",
     "output_type": "stream",
     "text": [
      "pandemonium\n"
     ]
    }
   ],
   "source": [
    "d = Dice()\n",
    "s = Scorecard()\n",
    "ap = SebastianAutoPlayer()\n",
    "\n",
    "d.roll()\n",
    "\n",
    "cat = ap.third_roll(d,s)\n",
    "print(cat)\n",
    "s.record(cat, d)"
   ]
  },
  {
   "cell_type": "code",
   "execution_count": 299,
   "id": "faced-flower",
   "metadata": {},
   "outputs": [
    {
     "data": {
      "text/plain": [
       "'quadrupla'"
      ]
     },
     "execution_count": 299,
     "metadata": {},
     "output_type": "execute_result"
    }
   ],
   "source": [
    "random.choice([c for c in s.Categories if c not in s.scorecard])"
   ]
  },
  {
   "cell_type": "code",
   "execution_count": 3,
   "id": "offensive-pavilion",
   "metadata": {},
   "outputs": [
    {
     "name": "stdout",
     "output_type": "stream",
     "text": [
      "   Roll #1: 4 6 6 3 3\n",
      "   Roll #2: 1 6 6 3 3\n",
      "   Roll #3: 1 3 2 3 3\n",
      "         0  primis                         \n",
      "         0  secundus                       \n",
      "         0  tertium                        \n",
      "         0  quartus                        \n",
      "         0  quintus                        \n",
      "         0  sextus                         \n",
      "         0  company                        \n",
      "         0  prattle                        \n",
      "         0  squadron                       \n",
      "         0  triplex                        \n",
      "         0  quadrupla                      \n",
      "         0  quintuplicatam                 \n",
      "         0  pandemonium                    \n",
      "            Bonus                          \n",
      "         0  TOTAL                          \n",
      "\n"
     ]
    }
   ],
   "source": [
    "# below here is the flow of the program, so that I can understand what the program is doing\n",
    "\n",
    "# initialize the dice, scorecard, and autoplayer\n",
    "d = Dice()\n",
    "s = Scorecard()\n",
    "ap = SebastianAutoPlayer()\n",
    "\n",
    "# use the roll method to start\n",
    "d.roll()\n",
    "print(\"   Roll #1: \" + str(d))\n",
    "# pass dice and scorecard to first roll method to find which dice to reroll\n",
    "# set the dice chosen to reroll to variable\n",
    "which_to_reroll = ap.first_roll(d, s)\n",
    "\n",
    "# pass dice and scorecard to second roll method to find which dice to reroll\n",
    "# set the dice chosen to reroll to variable\n",
    "d.reroll(which_to_reroll)\n",
    "print(\"   Roll #2: \" + str(d))\n",
    "which_to_reroll = ap.second_roll(d, s)\n",
    "\n",
    "# pass dice and scorecard to third roll method to choose the category \n",
    "# set the category chosen to variable\n",
    "d.reroll(which_to_reroll)\n",
    "print(\"   Roll #3: \" + str(d))\n",
    "category = ap.third_roll(d, s)\n",
    "\n",
    "# record the category by passing it and then \n",
    "s.record(category, d)\n",
    "print(s)"
   ]
  }
 ],
 "metadata": {
  "kernelspec": {
   "display_name": "Python 3",
   "language": "python",
   "name": "python3"
  },
  "language_info": {
   "codemirror_mode": {
    "name": "ipython",
    "version": 3
   },
   "file_extension": ".py",
   "mimetype": "text/x-python",
   "name": "python",
   "nbconvert_exporter": "python",
   "pygments_lexer": "ipython3",
   "version": "3.8.5"
  }
 },
 "nbformat": 4,
 "nbformat_minor": 5
}
